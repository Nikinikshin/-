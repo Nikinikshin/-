{
 "cells": [
  {
   "cell_type": "markdown",
   "id": "386f2ae7",
   "metadata": {
    "deletable": false,
    "editable": false,
    "id": "386f2ae7"
   },
   "source": [
    "# Исследование надежности заемщиков\n"
   ]
  },
  {
   "cell_type": "markdown",
   "id": "dc6d448f",
   "metadata": {},
   "source": [
    "**Цель исследования**: предобрабоать данные, провести анализ.\n",
    "\n",
    "**Результата исследования**: необходимо ответить на следующие вопросы:\n",
    "\n",
    "                            1.Есть ли зависимость между количеством детей и возвратом кредита в срок?\n",
    "                            2.Есть ли зависимость между семейным положением и возвратом кредита в срок?\n",
    "                            3.Есть ли зависимость между уровнем дохода и возвратом кредита в срок?\n",
    "                            4.Как разные цели кредита влияют на его возврат в срок?"
   ]
  },
  {
   "cell_type": "markdown",
   "id": "26613308",
   "metadata": {
    "deletable": false,
    "editable": false,
    "id": "26613308"
   },
   "source": [
    "## Изучение общей информации о данных"
   ]
  },
  {
   "cell_type": "markdown",
   "id": "3c9f838e",
   "metadata": {
    "deletable": false,
    "editable": false,
    "id": "3c9f838e"
   },
   "source": [
    "**1. Загрузка данных. Путь к файлу:**\n",
    "\n",
    "`/datasets/data.csv`"
   ]
  },
  {
   "cell_type": "code",
   "execution_count": 1,
   "id": "77a68a90",
   "metadata": {
    "deletable": false,
    "id": "77a68a90"
   },
   "outputs": [],
   "source": [
    "import pandas as pd\n",
    "\n",
    "try:\n",
    "    data = pd.read_csv('/datasets/data.csv')\n",
    "except:\n",
    "    data = pd.read_csv('https://code.s3.yandex.net/datasets/data.csv')"
   ]
  },
  {
   "cell_type": "markdown",
   "id": "45365635",
   "metadata": {
    "deletable": false,
    "editable": false,
    "id": "45365635"
   },
   "source": [
    "**2. Ознакомление с таблицей.**"
   ]
  },
  {
   "cell_type": "code",
   "execution_count": 2,
   "id": "b0451a9a",
   "metadata": {
    "deletable": false,
    "id": "b0451a9a",
    "outputId": "1a8f3ef2-d323-4ec2-ddf7-89670b5944c4"
   },
   "outputs": [
    {
     "data": {
      "text/html": [
       "<div>\n",
       "<style scoped>\n",
       "    .dataframe tbody tr th:only-of-type {\n",
       "        vertical-align: middle;\n",
       "    }\n",
       "\n",
       "    .dataframe tbody tr th {\n",
       "        vertical-align: top;\n",
       "    }\n",
       "\n",
       "    .dataframe thead th {\n",
       "        text-align: right;\n",
       "    }\n",
       "</style>\n",
       "<table border=\"1\" class=\"dataframe\">\n",
       "  <thead>\n",
       "    <tr style=\"text-align: right;\">\n",
       "      <th></th>\n",
       "      <th>children</th>\n",
       "      <th>days_employed</th>\n",
       "      <th>dob_years</th>\n",
       "      <th>education</th>\n",
       "      <th>education_id</th>\n",
       "      <th>family_status</th>\n",
       "      <th>family_status_id</th>\n",
       "      <th>gender</th>\n",
       "      <th>income_type</th>\n",
       "      <th>debt</th>\n",
       "      <th>total_income</th>\n",
       "      <th>purpose</th>\n",
       "    </tr>\n",
       "  </thead>\n",
       "  <tbody>\n",
       "    <tr>\n",
       "      <th>0</th>\n",
       "      <td>1</td>\n",
       "      <td>-8437.673028</td>\n",
       "      <td>42</td>\n",
       "      <td>высшее</td>\n",
       "      <td>0</td>\n",
       "      <td>женат / замужем</td>\n",
       "      <td>0</td>\n",
       "      <td>F</td>\n",
       "      <td>сотрудник</td>\n",
       "      <td>0</td>\n",
       "      <td>253875.639453</td>\n",
       "      <td>покупка жилья</td>\n",
       "    </tr>\n",
       "    <tr>\n",
       "      <th>1</th>\n",
       "      <td>1</td>\n",
       "      <td>-4024.803754</td>\n",
       "      <td>36</td>\n",
       "      <td>среднее</td>\n",
       "      <td>1</td>\n",
       "      <td>женат / замужем</td>\n",
       "      <td>0</td>\n",
       "      <td>F</td>\n",
       "      <td>сотрудник</td>\n",
       "      <td>0</td>\n",
       "      <td>112080.014102</td>\n",
       "      <td>приобретение автомобиля</td>\n",
       "    </tr>\n",
       "    <tr>\n",
       "      <th>2</th>\n",
       "      <td>0</td>\n",
       "      <td>-5623.422610</td>\n",
       "      <td>33</td>\n",
       "      <td>Среднее</td>\n",
       "      <td>1</td>\n",
       "      <td>женат / замужем</td>\n",
       "      <td>0</td>\n",
       "      <td>M</td>\n",
       "      <td>сотрудник</td>\n",
       "      <td>0</td>\n",
       "      <td>145885.952297</td>\n",
       "      <td>покупка жилья</td>\n",
       "    </tr>\n",
       "    <tr>\n",
       "      <th>3</th>\n",
       "      <td>3</td>\n",
       "      <td>-4124.747207</td>\n",
       "      <td>32</td>\n",
       "      <td>среднее</td>\n",
       "      <td>1</td>\n",
       "      <td>женат / замужем</td>\n",
       "      <td>0</td>\n",
       "      <td>M</td>\n",
       "      <td>сотрудник</td>\n",
       "      <td>0</td>\n",
       "      <td>267628.550329</td>\n",
       "      <td>дополнительное образование</td>\n",
       "    </tr>\n",
       "    <tr>\n",
       "      <th>4</th>\n",
       "      <td>0</td>\n",
       "      <td>340266.072047</td>\n",
       "      <td>53</td>\n",
       "      <td>среднее</td>\n",
       "      <td>1</td>\n",
       "      <td>гражданский брак</td>\n",
       "      <td>1</td>\n",
       "      <td>F</td>\n",
       "      <td>пенсионер</td>\n",
       "      <td>0</td>\n",
       "      <td>158616.077870</td>\n",
       "      <td>сыграть свадьбу</td>\n",
       "    </tr>\n",
       "    <tr>\n",
       "      <th>5</th>\n",
       "      <td>0</td>\n",
       "      <td>-926.185831</td>\n",
       "      <td>27</td>\n",
       "      <td>высшее</td>\n",
       "      <td>0</td>\n",
       "      <td>гражданский брак</td>\n",
       "      <td>1</td>\n",
       "      <td>M</td>\n",
       "      <td>компаньон</td>\n",
       "      <td>0</td>\n",
       "      <td>255763.565419</td>\n",
       "      <td>покупка жилья</td>\n",
       "    </tr>\n",
       "    <tr>\n",
       "      <th>6</th>\n",
       "      <td>0</td>\n",
       "      <td>-2879.202052</td>\n",
       "      <td>43</td>\n",
       "      <td>высшее</td>\n",
       "      <td>0</td>\n",
       "      <td>женат / замужем</td>\n",
       "      <td>0</td>\n",
       "      <td>F</td>\n",
       "      <td>компаньон</td>\n",
       "      <td>0</td>\n",
       "      <td>240525.971920</td>\n",
       "      <td>операции с жильем</td>\n",
       "    </tr>\n",
       "    <tr>\n",
       "      <th>7</th>\n",
       "      <td>0</td>\n",
       "      <td>-152.779569</td>\n",
       "      <td>50</td>\n",
       "      <td>СРЕДНЕЕ</td>\n",
       "      <td>1</td>\n",
       "      <td>женат / замужем</td>\n",
       "      <td>0</td>\n",
       "      <td>M</td>\n",
       "      <td>сотрудник</td>\n",
       "      <td>0</td>\n",
       "      <td>135823.934197</td>\n",
       "      <td>образование</td>\n",
       "    </tr>\n",
       "    <tr>\n",
       "      <th>8</th>\n",
       "      <td>2</td>\n",
       "      <td>-6929.865299</td>\n",
       "      <td>35</td>\n",
       "      <td>ВЫСШЕЕ</td>\n",
       "      <td>0</td>\n",
       "      <td>гражданский брак</td>\n",
       "      <td>1</td>\n",
       "      <td>F</td>\n",
       "      <td>сотрудник</td>\n",
       "      <td>0</td>\n",
       "      <td>95856.832424</td>\n",
       "      <td>на проведение свадьбы</td>\n",
       "    </tr>\n",
       "    <tr>\n",
       "      <th>9</th>\n",
       "      <td>0</td>\n",
       "      <td>-2188.756445</td>\n",
       "      <td>41</td>\n",
       "      <td>среднее</td>\n",
       "      <td>1</td>\n",
       "      <td>женат / замужем</td>\n",
       "      <td>0</td>\n",
       "      <td>M</td>\n",
       "      <td>сотрудник</td>\n",
       "      <td>0</td>\n",
       "      <td>144425.938277</td>\n",
       "      <td>покупка жилья для семьи</td>\n",
       "    </tr>\n",
       "    <tr>\n",
       "      <th>10</th>\n",
       "      <td>2</td>\n",
       "      <td>-4171.483647</td>\n",
       "      <td>36</td>\n",
       "      <td>высшее</td>\n",
       "      <td>0</td>\n",
       "      <td>женат / замужем</td>\n",
       "      <td>0</td>\n",
       "      <td>M</td>\n",
       "      <td>компаньон</td>\n",
       "      <td>0</td>\n",
       "      <td>113943.491460</td>\n",
       "      <td>покупка недвижимости</td>\n",
       "    </tr>\n",
       "    <tr>\n",
       "      <th>11</th>\n",
       "      <td>0</td>\n",
       "      <td>-792.701887</td>\n",
       "      <td>40</td>\n",
       "      <td>среднее</td>\n",
       "      <td>1</td>\n",
       "      <td>женат / замужем</td>\n",
       "      <td>0</td>\n",
       "      <td>F</td>\n",
       "      <td>сотрудник</td>\n",
       "      <td>0</td>\n",
       "      <td>77069.234271</td>\n",
       "      <td>покупка коммерческой недвижимости</td>\n",
       "    </tr>\n",
       "    <tr>\n",
       "      <th>12</th>\n",
       "      <td>0</td>\n",
       "      <td>NaN</td>\n",
       "      <td>65</td>\n",
       "      <td>среднее</td>\n",
       "      <td>1</td>\n",
       "      <td>гражданский брак</td>\n",
       "      <td>1</td>\n",
       "      <td>M</td>\n",
       "      <td>пенсионер</td>\n",
       "      <td>0</td>\n",
       "      <td>NaN</td>\n",
       "      <td>сыграть свадьбу</td>\n",
       "    </tr>\n",
       "    <tr>\n",
       "      <th>13</th>\n",
       "      <td>0</td>\n",
       "      <td>-1846.641941</td>\n",
       "      <td>54</td>\n",
       "      <td>неоконченное высшее</td>\n",
       "      <td>2</td>\n",
       "      <td>женат / замужем</td>\n",
       "      <td>0</td>\n",
       "      <td>F</td>\n",
       "      <td>сотрудник</td>\n",
       "      <td>0</td>\n",
       "      <td>130458.228857</td>\n",
       "      <td>приобретение автомобиля</td>\n",
       "    </tr>\n",
       "    <tr>\n",
       "      <th>14</th>\n",
       "      <td>0</td>\n",
       "      <td>-1844.956182</td>\n",
       "      <td>56</td>\n",
       "      <td>высшее</td>\n",
       "      <td>0</td>\n",
       "      <td>гражданский брак</td>\n",
       "      <td>1</td>\n",
       "      <td>F</td>\n",
       "      <td>компаньон</td>\n",
       "      <td>1</td>\n",
       "      <td>165127.911772</td>\n",
       "      <td>покупка жилой недвижимости</td>\n",
       "    </tr>\n",
       "    <tr>\n",
       "      <th>15</th>\n",
       "      <td>1</td>\n",
       "      <td>-972.364419</td>\n",
       "      <td>26</td>\n",
       "      <td>среднее</td>\n",
       "      <td>1</td>\n",
       "      <td>женат / замужем</td>\n",
       "      <td>0</td>\n",
       "      <td>F</td>\n",
       "      <td>сотрудник</td>\n",
       "      <td>0</td>\n",
       "      <td>116820.904450</td>\n",
       "      <td>строительство собственной недвижимости</td>\n",
       "    </tr>\n",
       "    <tr>\n",
       "      <th>16</th>\n",
       "      <td>0</td>\n",
       "      <td>-1719.934226</td>\n",
       "      <td>35</td>\n",
       "      <td>среднее</td>\n",
       "      <td>1</td>\n",
       "      <td>женат / замужем</td>\n",
       "      <td>0</td>\n",
       "      <td>F</td>\n",
       "      <td>сотрудник</td>\n",
       "      <td>0</td>\n",
       "      <td>289202.704229</td>\n",
       "      <td>недвижимость</td>\n",
       "    </tr>\n",
       "    <tr>\n",
       "      <th>17</th>\n",
       "      <td>0</td>\n",
       "      <td>-2369.999720</td>\n",
       "      <td>33</td>\n",
       "      <td>высшее</td>\n",
       "      <td>0</td>\n",
       "      <td>гражданский брак</td>\n",
       "      <td>1</td>\n",
       "      <td>M</td>\n",
       "      <td>сотрудник</td>\n",
       "      <td>0</td>\n",
       "      <td>90410.586745</td>\n",
       "      <td>строительство недвижимости</td>\n",
       "    </tr>\n",
       "    <tr>\n",
       "      <th>18</th>\n",
       "      <td>0</td>\n",
       "      <td>400281.136913</td>\n",
       "      <td>53</td>\n",
       "      <td>среднее</td>\n",
       "      <td>1</td>\n",
       "      <td>вдовец / вдова</td>\n",
       "      <td>2</td>\n",
       "      <td>F</td>\n",
       "      <td>пенсионер</td>\n",
       "      <td>0</td>\n",
       "      <td>56823.777243</td>\n",
       "      <td>на покупку подержанного автомобиля</td>\n",
       "    </tr>\n",
       "    <tr>\n",
       "      <th>19</th>\n",
       "      <td>0</td>\n",
       "      <td>-10038.818549</td>\n",
       "      <td>48</td>\n",
       "      <td>СРЕДНЕЕ</td>\n",
       "      <td>1</td>\n",
       "      <td>в разводе</td>\n",
       "      <td>3</td>\n",
       "      <td>F</td>\n",
       "      <td>сотрудник</td>\n",
       "      <td>0</td>\n",
       "      <td>242831.107982</td>\n",
       "      <td>на покупку своего автомобиля</td>\n",
       "    </tr>\n",
       "  </tbody>\n",
       "</table>\n",
       "</div>"
      ],
      "text/plain": [
       "    children  days_employed  dob_years            education  education_id  \\\n",
       "0          1   -8437.673028         42               высшее             0   \n",
       "1          1   -4024.803754         36              среднее             1   \n",
       "2          0   -5623.422610         33              Среднее             1   \n",
       "3          3   -4124.747207         32              среднее             1   \n",
       "4          0  340266.072047         53              среднее             1   \n",
       "5          0    -926.185831         27               высшее             0   \n",
       "6          0   -2879.202052         43               высшее             0   \n",
       "7          0    -152.779569         50              СРЕДНЕЕ             1   \n",
       "8          2   -6929.865299         35               ВЫСШЕЕ             0   \n",
       "9          0   -2188.756445         41              среднее             1   \n",
       "10         2   -4171.483647         36               высшее             0   \n",
       "11         0    -792.701887         40              среднее             1   \n",
       "12         0            NaN         65              среднее             1   \n",
       "13         0   -1846.641941         54  неоконченное высшее             2   \n",
       "14         0   -1844.956182         56               высшее             0   \n",
       "15         1    -972.364419         26              среднее             1   \n",
       "16         0   -1719.934226         35              среднее             1   \n",
       "17         0   -2369.999720         33               высшее             0   \n",
       "18         0  400281.136913         53              среднее             1   \n",
       "19         0  -10038.818549         48              СРЕДНЕЕ             1   \n",
       "\n",
       "       family_status  family_status_id gender income_type  debt  \\\n",
       "0    женат / замужем                 0      F   сотрудник     0   \n",
       "1    женат / замужем                 0      F   сотрудник     0   \n",
       "2    женат / замужем                 0      M   сотрудник     0   \n",
       "3    женат / замужем                 0      M   сотрудник     0   \n",
       "4   гражданский брак                 1      F   пенсионер     0   \n",
       "5   гражданский брак                 1      M   компаньон     0   \n",
       "6    женат / замужем                 0      F   компаньон     0   \n",
       "7    женат / замужем                 0      M   сотрудник     0   \n",
       "8   гражданский брак                 1      F   сотрудник     0   \n",
       "9    женат / замужем                 0      M   сотрудник     0   \n",
       "10   женат / замужем                 0      M   компаньон     0   \n",
       "11   женат / замужем                 0      F   сотрудник     0   \n",
       "12  гражданский брак                 1      M   пенсионер     0   \n",
       "13   женат / замужем                 0      F   сотрудник     0   \n",
       "14  гражданский брак                 1      F   компаньон     1   \n",
       "15   женат / замужем                 0      F   сотрудник     0   \n",
       "16   женат / замужем                 0      F   сотрудник     0   \n",
       "17  гражданский брак                 1      M   сотрудник     0   \n",
       "18    вдовец / вдова                 2      F   пенсионер     0   \n",
       "19         в разводе                 3      F   сотрудник     0   \n",
       "\n",
       "     total_income                                 purpose  \n",
       "0   253875.639453                           покупка жилья  \n",
       "1   112080.014102                 приобретение автомобиля  \n",
       "2   145885.952297                           покупка жилья  \n",
       "3   267628.550329              дополнительное образование  \n",
       "4   158616.077870                         сыграть свадьбу  \n",
       "5   255763.565419                           покупка жилья  \n",
       "6   240525.971920                       операции с жильем  \n",
       "7   135823.934197                             образование  \n",
       "8    95856.832424                   на проведение свадьбы  \n",
       "9   144425.938277                 покупка жилья для семьи  \n",
       "10  113943.491460                    покупка недвижимости  \n",
       "11   77069.234271       покупка коммерческой недвижимости  \n",
       "12            NaN                         сыграть свадьбу  \n",
       "13  130458.228857                 приобретение автомобиля  \n",
       "14  165127.911772              покупка жилой недвижимости  \n",
       "15  116820.904450  строительство собственной недвижимости  \n",
       "16  289202.704229                            недвижимость  \n",
       "17   90410.586745              строительство недвижимости  \n",
       "18   56823.777243      на покупку подержанного автомобиля  \n",
       "19  242831.107982            на покупку своего автомобиля  "
      ]
     },
     "execution_count": 2,
     "metadata": {},
     "output_type": "execute_result"
    }
   ],
   "source": [
    "data.head(20)"
   ]
  },
  {
   "cell_type": "markdown",
   "id": "0ed8f27f",
   "metadata": {
    "deletable": false,
    "editable": false,
    "id": "0ed8f27f"
   },
   "source": [
    "**3. Основная информация о датафрейме .**"
   ]
  },
  {
   "cell_type": "code",
   "execution_count": 3,
   "id": "ab3f863b",
   "metadata": {
    "deletable": false,
    "id": "ab3f863b",
    "outputId": "15376089-8dad-46c9-b520-c05248d43158"
   },
   "outputs": [
    {
     "name": "stdout",
     "output_type": "stream",
     "text": [
      "<class 'pandas.core.frame.DataFrame'>\n",
      "RangeIndex: 21525 entries, 0 to 21524\n",
      "Data columns (total 12 columns):\n",
      " #   Column            Non-Null Count  Dtype  \n",
      "---  ------            --------------  -----  \n",
      " 0   children          21525 non-null  int64  \n",
      " 1   days_employed     19351 non-null  float64\n",
      " 2   dob_years         21525 non-null  int64  \n",
      " 3   education         21525 non-null  object \n",
      " 4   education_id      21525 non-null  int64  \n",
      " 5   family_status     21525 non-null  object \n",
      " 6   family_status_id  21525 non-null  int64  \n",
      " 7   gender            21525 non-null  object \n",
      " 8   income_type       21525 non-null  object \n",
      " 9   debt              21525 non-null  int64  \n",
      " 10  total_income      19351 non-null  float64\n",
      " 11  purpose           21525 non-null  object \n",
      "dtypes: float64(2), int64(5), object(5)\n",
      "memory usage: 2.0+ MB\n"
     ]
    }
   ],
   "source": [
    "data.info()"
   ]
  },
  {
   "cell_type": "markdown",
   "id": "60e3e22d",
   "metadata": {
    "deletable": false,
    "editable": false,
    "id": "60e3e22d"
   },
   "source": [
    "## Предобработка данных"
   ]
  },
  {
   "cell_type": "markdown",
   "id": "03dc170c",
   "metadata": {
    "deletable": false,
    "editable": false,
    "id": "03dc170c"
   },
   "source": [
    "### Удаление пропусков"
   ]
  },
  {
   "cell_type": "markdown",
   "id": "a4f54eef",
   "metadata": {
    "deletable": false,
    "editable": false,
    "id": "a4f54eef"
   },
   "source": [
    "**4. Количество пропусков для каждого столбца.**"
   ]
  },
  {
   "cell_type": "code",
   "execution_count": 4,
   "id": "2dc372b2",
   "metadata": {
    "deletable": false,
    "id": "2dc372b2",
    "outputId": "81f4d817-781c-465c-ed15-91ce4446810d"
   },
   "outputs": [
    {
     "data": {
      "text/plain": [
       "children               0\n",
       "days_employed       2174\n",
       "dob_years              0\n",
       "education              0\n",
       "education_id           0\n",
       "family_status          0\n",
       "family_status_id       0\n",
       "gender                 0\n",
       "income_type            0\n",
       "debt                   0\n",
       "total_income        2174\n",
       "purpose                0\n",
       "dtype: int64"
      ]
     },
     "execution_count": 4,
     "metadata": {},
     "output_type": "execute_result"
    }
   ],
   "source": [
    "data.isna().sum()"
   ]
  },
  {
   "cell_type": "markdown",
   "id": "14f011b1",
   "metadata": {
    "deletable": false,
    "editable": false,
    "id": "14f011b1"
   },
   "source": [
    "**5. Заполним пропуски в столбце `total_income` медианным значением, опираясь на тип занятости (столбец `income_type`).**"
   ]
  },
  {
   "cell_type": "code",
   "execution_count": 5,
   "id": "bdabfb6e",
   "metadata": {
    "deletable": false,
    "id": "bdabfb6e"
   },
   "outputs": [],
   "source": [
    "for t in data['income_type'].unique():\n",
    "    data.loc[(data['income_type'] == t) & (data['total_income'].isna()), 'total_income'] = \\\n",
    "    data.loc[(data['income_type'] == t), 'total_income'].median()"
   ]
  },
  {
   "cell_type": "markdown",
   "id": "5be34059",
   "metadata": {
    "deletable": false,
    "editable": false,
    "id": "5be34059"
   },
   "source": [
    "### Обработка аномальных значений"
   ]
  },
  {
   "cell_type": "markdown",
   "id": "a87606cb",
   "metadata": {
    "deletable": false,
    "editable": false,
    "id": "a87606cb"
   },
   "source": [
    "**6. Заменим отрицательные значения в столбце `days_employed` (трудовой стаж) на положительные.**"
   ]
  },
  {
   "cell_type": "code",
   "execution_count": 6,
   "id": "020c46cc",
   "metadata": {
    "deletable": false,
    "id": "020c46cc"
   },
   "outputs": [],
   "source": [
    "data['days_employed'] = data['days_employed'].abs()"
   ]
  },
  {
   "cell_type": "markdown",
   "id": "45538a3a",
   "metadata": {
    "deletable": false,
    "editable": false,
    "id": "45538a3a"
   },
   "source": [
    "**7. Для каждого типа занятости выведем медианное значение трудового стажа `days_employed` в днях.**"
   ]
  },
  {
   "cell_type": "code",
   "execution_count": 7,
   "id": "cd3e6328",
   "metadata": {
    "deletable": false,
    "id": "cd3e6328",
    "outputId": "801ef80e-522b-4668-f34e-565af7432bcf"
   },
   "outputs": [
    {
     "data": {
      "text/plain": [
       "income_type\n",
       "безработный        366413.652744\n",
       "в декрете            3296.759962\n",
       "госслужащий          2689.368353\n",
       "компаньон            1547.382223\n",
       "пенсионер          365213.306266\n",
       "предприниматель       520.848083\n",
       "сотрудник            1574.202821\n",
       "студент               578.751554\n",
       "Name: days_employed, dtype: float64"
      ]
     },
     "execution_count": 7,
     "metadata": {},
     "output_type": "execute_result"
    }
   ],
   "source": [
    "data.groupby('income_type')['days_employed'].agg('median')"
   ]
  },
  {
   "cell_type": "markdown",
   "id": "90c5f058",
   "metadata": {
    "deletable": false,
    "editable": false,
    "id": "90c5f058"
   },
   "source": [
    "У двух типов (безработные и пенсионеры) получатся аномально большие значения. Исправить такие значения сложно, поэтому оставим их как есть."
   ]
  },
  {
   "cell_type": "markdown",
   "id": "9652e50d",
   "metadata": {
    "deletable": false,
    "editable": false,
    "id": "9652e50d"
   },
   "source": [
    "**8. Выведем перечень уникальных значений столбца `children`.**"
   ]
  },
  {
   "cell_type": "code",
   "execution_count": 8,
   "id": "dbb37b8e",
   "metadata": {
    "deletable": false,
    "id": "dbb37b8e",
    "outputId": "6975b15c-7f95-4697-d16d-a0c79b657b03"
   },
   "outputs": [
    {
     "data": {
      "text/plain": [
       "array([ 1,  0,  3,  2, -1,  4, 20,  5])"
      ]
     },
     "execution_count": 8,
     "metadata": {},
     "output_type": "execute_result"
    }
   ],
   "source": [
    "data['children'].unique()"
   ]
  },
  {
   "cell_type": "markdown",
   "id": "2b8b0715",
   "metadata": {
    "deletable": false,
    "editable": false,
    "id": "2b8b0715"
   },
   "source": [
    "**9. Удалим аномалии в данном столбце.**"
   ]
  },
  {
   "cell_type": "code",
   "execution_count": 9,
   "id": "20009df8",
   "metadata": {
    "deletable": false,
    "id": "20009df8"
   },
   "outputs": [],
   "source": [
    "data = data[(data['children'] != -1) & (data['children'] != 20)]"
   ]
  },
  {
   "cell_type": "markdown",
   "id": "8c6ac9f1",
   "metadata": {
    "deletable": false,
    "editable": false,
    "id": "8c6ac9f1"
   },
   "source": [
    "**10. Проверка удаления аномалий.**"
   ]
  },
  {
   "cell_type": "code",
   "execution_count": 10,
   "id": "07337b81",
   "metadata": {
    "deletable": false,
    "id": "07337b81",
    "outputId": "b2097101-d49d-44d9-901b-32a65c9463d1"
   },
   "outputs": [
    {
     "data": {
      "text/plain": [
       "array([1, 0, 3, 2, 4, 5])"
      ]
     },
     "execution_count": 10,
     "metadata": {},
     "output_type": "execute_result"
    }
   ],
   "source": [
    "data['children'].unique()"
   ]
  },
  {
   "cell_type": "markdown",
   "id": "ee3f52d4",
   "metadata": {
    "deletable": false,
    "editable": false,
    "id": "ee3f52d4"
   },
   "source": [
    "### Удаление пропусков (продолжение)"
   ]
  },
  {
   "cell_type": "markdown",
   "id": "a700b0e4",
   "metadata": {
    "deletable": false,
    "editable": false,
    "id": "a700b0e4"
   },
   "source": [
    "**11. Заполним пропуски в столбце `days_employed` медианными значениями в зависимости от типа занятости `income_type`.**"
   ]
  },
  {
   "cell_type": "code",
   "execution_count": 11,
   "id": "61946b83",
   "metadata": {
    "deletable": false,
    "id": "61946b83"
   },
   "outputs": [],
   "source": [
    "for t in data['income_type'].unique():\n",
    "    data.loc[(data['income_type'] == t) & (data['days_employed'].isna()), 'days_employed'] = \\\n",
    "    data.loc[(data['income_type'] == t), 'days_employed'].median()"
   ]
  },
  {
   "cell_type": "markdown",
   "id": "550dcd9b",
   "metadata": {
    "deletable": false,
    "editable": false,
    "id": "550dcd9b"
   },
   "source": [
    "**12. Проверим, все ли пропуски заполнены**"
   ]
  },
  {
   "cell_type": "code",
   "execution_count": 12,
   "id": "937c7014",
   "metadata": {
    "deletable": false,
    "id": "937c7014",
    "outputId": "8da1e4e1-358e-4e87-98c9-f261bce0a7b2"
   },
   "outputs": [
    {
     "data": {
      "text/plain": [
       "children            0\n",
       "days_employed       0\n",
       "dob_years           0\n",
       "education           0\n",
       "education_id        0\n",
       "family_status       0\n",
       "family_status_id    0\n",
       "gender              0\n",
       "income_type         0\n",
       "debt                0\n",
       "total_income        0\n",
       "purpose             0\n",
       "dtype: int64"
      ]
     },
     "execution_count": 12,
     "metadata": {},
     "output_type": "execute_result"
    }
   ],
   "source": [
    "data.isna().sum()"
   ]
  },
  {
   "cell_type": "markdown",
   "id": "d522e295",
   "metadata": {
    "deletable": false,
    "editable": false,
    "id": "d522e295"
   },
   "source": [
    "### Изменение типов данных"
   ]
  },
  {
   "cell_type": "markdown",
   "id": "c229c581",
   "metadata": {
    "deletable": false,
    "editable": false,
    "id": "c229c581"
   },
   "source": [
    "**13. Заменим вещественный тип данных в столбце `total_income` на целочисленный.**"
   ]
  },
  {
   "cell_type": "code",
   "execution_count": 13,
   "id": "31036462",
   "metadata": {
    "deletable": false,
    "id": "31036462"
   },
   "outputs": [],
   "source": [
    "data['total_income'] = data['total_income'].astype(int)"
   ]
  },
  {
   "cell_type": "markdown",
   "id": "b8e3d1d9",
   "metadata": {
    "deletable": false,
    "editable": false,
    "id": "b8e3d1d9"
   },
   "source": [
    "### Обработка дубликатов"
   ]
  },
  {
   "cell_type": "markdown",
   "id": "9be53c49",
   "metadata": {
    "deletable": false,
    "editable": false,
    "id": "9be53c49"
   },
   "source": [
    "**14. Обработаем неявные дубликаты в столбце `education`. В этом столбце есть одни и те же значения, но записанные по-разному: с использованием заглавных и строчных букв.**"
   ]
  },
  {
   "cell_type": "code",
   "execution_count": 14,
   "id": "d89e73e1",
   "metadata": {
    "deletable": false,
    "id": "d89e73e1"
   },
   "outputs": [],
   "source": [
    "data['education'] = data['education'].str.lower()"
   ]
  },
  {
   "cell_type": "markdown",
   "id": "01d4500e",
   "metadata": {
    "deletable": false,
    "editable": false,
    "id": "01d4500e"
   },
   "source": [
    "**15. Обратоям явные дубликаты.**"
   ]
  },
  {
   "cell_type": "code",
   "execution_count": 15,
   "id": "e10efb23",
   "metadata": {
    "deletable": false,
    "id": "e10efb23",
    "outputId": "9684deba-1934-42d1-99e1-cda61740f822"
   },
   "outputs": [
    {
     "data": {
      "text/plain": [
       "71"
      ]
     },
     "execution_count": 15,
     "metadata": {},
     "output_type": "execute_result"
    }
   ],
   "source": [
    "data.duplicated().sum()"
   ]
  },
  {
   "cell_type": "code",
   "execution_count": 16,
   "id": "df853f20",
   "metadata": {
    "deletable": false,
    "id": "df853f20"
   },
   "outputs": [],
   "source": [
    "data = data.drop_duplicates()"
   ]
  },
  {
   "cell_type": "markdown",
   "id": "627be38f",
   "metadata": {
    "deletable": false,
    "editable": false,
    "id": "627be38f"
   },
   "source": [
    "### Категоризация данных"
   ]
  },
  {
   "cell_type": "markdown",
   "id": "4684c3e0",
   "metadata": {
    "deletable": false,
    "editable": false,
    "id": "4684c3e0"
   },
   "source": [
    "**16. На основании диапазонов, указанных ниже, создадим в датафрейме `data` столбец `total_income_category` с категориями:**\n",
    "\n",
    "- 0–30000 — `'E'`;\n",
    "- 30001–50000 — `'D'`;\n",
    "- 50001–200000 — `'C'`;\n",
    "- 200001–1000000 — `'B'`;\n",
    "- 1000001 и выше — `'A'`.\n",
    "\n",
    "\n"
   ]
  },
  {
   "cell_type": "code",
   "execution_count": 17,
   "id": "78965238",
   "metadata": {
    "deletable": false,
    "id": "78965238"
   },
   "outputs": [],
   "source": [
    "def categorize_income(income):\n",
    "    try:\n",
    "        if 0 <= income <= 30000:\n",
    "            return 'E'\n",
    "        elif 30001 <= income <= 50000:\n",
    "            return 'D'\n",
    "        elif 50001 <= income <= 200000:\n",
    "            return 'C'\n",
    "        elif 200001 <= income <= 1000000:\n",
    "            return 'B'\n",
    "        elif income >= 1000001:\n",
    "            return 'A'\n",
    "    except:\n",
    "        pass"
   ]
  },
  {
   "cell_type": "code",
   "execution_count": 18,
   "id": "0980ada1",
   "metadata": {
    "deletable": false,
    "id": "0980ada1"
   },
   "outputs": [],
   "source": [
    "data['total_income_category'] = data['total_income'].apply(categorize_income)"
   ]
  },
  {
   "cell_type": "markdown",
   "id": "9917bba0",
   "metadata": {
    "deletable": false,
    "editable": false,
    "id": "9917bba0"
   },
   "source": [
    "**17. Выведим перечень уникальных целей взятия кредита из столбца `purpose`.**"
   ]
  },
  {
   "cell_type": "code",
   "execution_count": 19,
   "id": "ee07b65e",
   "metadata": {
    "deletable": false,
    "id": "ee07b65e",
    "outputId": "673c12d9-7d7e-4ae0-9812-c622c89dd244"
   },
   "outputs": [
    {
     "data": {
      "text/plain": [
       "array(['покупка жилья', 'приобретение автомобиля',\n",
       "       'дополнительное образование', 'сыграть свадьбу',\n",
       "       'операции с жильем', 'образование', 'на проведение свадьбы',\n",
       "       'покупка жилья для семьи', 'покупка недвижимости',\n",
       "       'покупка коммерческой недвижимости', 'покупка жилой недвижимости',\n",
       "       'строительство собственной недвижимости', 'недвижимость',\n",
       "       'строительство недвижимости', 'на покупку подержанного автомобиля',\n",
       "       'на покупку своего автомобиля',\n",
       "       'операции с коммерческой недвижимостью',\n",
       "       'строительство жилой недвижимости', 'жилье',\n",
       "       'операции со своей недвижимостью', 'автомобили',\n",
       "       'заняться образованием', 'сделка с подержанным автомобилем',\n",
       "       'получение образования', 'автомобиль', 'свадьба',\n",
       "       'получение дополнительного образования', 'покупка своего жилья',\n",
       "       'операции с недвижимостью', 'получение высшего образования',\n",
       "       'свой автомобиль', 'сделка с автомобилем',\n",
       "       'профильное образование', 'высшее образование',\n",
       "       'покупка жилья для сдачи', 'на покупку автомобиля', 'ремонт жилью',\n",
       "       'заняться высшим образованием'], dtype=object)"
      ]
     },
     "execution_count": 19,
     "metadata": {},
     "output_type": "execute_result"
    }
   ],
   "source": [
    "data['purpose'].unique()"
   ]
  },
  {
   "cell_type": "markdown",
   "id": "52b79d56",
   "metadata": {
    "deletable": false,
    "editable": false,
    "id": "52b79d56"
   },
   "source": [
    "**18. Создадим функцию, которая на основании данных из столбца `purpose` сформирует новый столбец `purpose_category`, в который войдут следующие категории:**\n",
    "\n",
    "- `'операции с автомобилем'`,\n",
    "- `'операции с недвижимостью'`,\n",
    "- `'проведение свадьбы'`,\n",
    "- `'получение образования'`.\n",
    "\n"
   ]
  },
  {
   "cell_type": "code",
   "execution_count": 20,
   "id": "be41da5d",
   "metadata": {
    "deletable": false,
    "id": "be41da5d"
   },
   "outputs": [],
   "source": [
    "def categorize_purpose(row):\n",
    "    try:\n",
    "        if 'автом' in row:\n",
    "            return 'операции с автомобилем'\n",
    "        elif 'жил' in row or 'недвиж' in row:\n",
    "            return 'операции с недвижимостью'\n",
    "        elif 'свад' in row:\n",
    "            return 'проведение свадьбы'\n",
    "        elif 'образов' in row:\n",
    "            return 'получение образования'\n",
    "    except:\n",
    "        return 'нет категории'"
   ]
  },
  {
   "cell_type": "code",
   "execution_count": 21,
   "id": "94c4a19a",
   "metadata": {
    "deletable": false,
    "id": "94c4a19a"
   },
   "outputs": [],
   "source": [
    "data['purpose_category'] = data['purpose'].apply(categorize_purpose)\n"
   ]
  },
  {
   "cell_type": "markdown",
   "id": "3d596c34",
   "metadata": {
    "deletable": false,
    "editable": false,
    "id": "3d596c34"
   },
   "source": [
    "### Шаг 3. Исследование данных и ответы на вопросы исследования"
   ]
  },
  {
   "cell_type": "markdown",
   "id": "648db036",
   "metadata": {
    "deletable": false,
    "editable": false,
    "id": "648db036"
   },
   "source": [
    "#### 3.1 Есть ли зависимость между количеством детей и возвратом кредита в срок?"
   ]
  },
  {
   "cell_type": "code",
   "execution_count": 23,
   "id": "848763f2",
   "metadata": {},
   "outputs": [
    {
     "data": {
      "text/html": [
       "<div>\n",
       "<style scoped>\n",
       "    .dataframe tbody tr th:only-of-type {\n",
       "        vertical-align: middle;\n",
       "    }\n",
       "\n",
       "    .dataframe tbody tr th {\n",
       "        vertical-align: top;\n",
       "    }\n",
       "\n",
       "    .dataframe thead th {\n",
       "        text-align: right;\n",
       "    }\n",
       "</style>\n",
       "<table border=\"1\" class=\"dataframe\">\n",
       "  <thead>\n",
       "    <tr style=\"text-align: right;\">\n",
       "      <th></th>\n",
       "      <th>clients_quantity</th>\n",
       "      <th>percent_of_return</th>\n",
       "    </tr>\n",
       "    <tr>\n",
       "      <th>children</th>\n",
       "      <th></th>\n",
       "      <th></th>\n",
       "    </tr>\n",
       "  </thead>\n",
       "  <tbody>\n",
       "    <tr>\n",
       "      <th>0</th>\n",
       "      <td>14091.0</td>\n",
       "      <td>92.46</td>\n",
       "    </tr>\n",
       "    <tr>\n",
       "      <th>1</th>\n",
       "      <td>4808.0</td>\n",
       "      <td>90.77</td>\n",
       "    </tr>\n",
       "    <tr>\n",
       "      <th>2</th>\n",
       "      <td>2052.0</td>\n",
       "      <td>90.55</td>\n",
       "    </tr>\n",
       "    <tr>\n",
       "      <th>3</th>\n",
       "      <td>330.0</td>\n",
       "      <td>91.82</td>\n",
       "    </tr>\n",
       "    <tr>\n",
       "      <th>4</th>\n",
       "      <td>41.0</td>\n",
       "      <td>90.24</td>\n",
       "    </tr>\n",
       "    <tr>\n",
       "      <th>5</th>\n",
       "      <td>9.0</td>\n",
       "      <td>100.00</td>\n",
       "    </tr>\n",
       "  </tbody>\n",
       "</table>\n",
       "</div>"
      ],
      "text/plain": [
       "          clients_quantity  percent_of_return\n",
       "children                                     \n",
       "0                  14091.0              92.46\n",
       "1                   4808.0              90.77\n",
       "2                   2052.0              90.55\n",
       "3                    330.0              91.82\n",
       "4                     41.0              90.24\n",
       "5                      9.0             100.00"
      ]
     },
     "execution_count": 23,
     "metadata": {},
     "output_type": "execute_result"
    }
   ],
   "source": [
    "def children_influence (x):\n",
    "    result = {\n",
    "    'clients_quantity': x['children'].count(),\n",
    "    'percent_of_return': (1 - x['debt'].mean()) * 100\n",
    "    }\n",
    "    return pd.Series(result).round(2)\n",
    "data.groupby('children').apply(children_influence)"
   ]
  },
  {
   "cell_type": "code",
   "execution_count": 24,
   "id": "14b7c93b",
   "metadata": {},
   "outputs": [
    {
     "name": "stdout",
     "output_type": "stream",
     "text": [
      "children                 0.042192\n",
      "days_employed            0.042192\n",
      "dob_years                0.042192\n",
      "education                0.042192\n",
      "education_id             0.042192\n",
      "family_status            0.042192\n",
      "family_status_id         0.042192\n",
      "gender                   0.042192\n",
      "income_type              0.042192\n",
      "debt                     0.042192\n",
      "total_income             0.042192\n",
      "purpose                  0.042192\n",
      "total_income_category    0.042192\n",
      "purpose_category         0.042192\n",
      "dtype: float64\n"
     ]
    }
   ],
   "source": [
    "five_children = data[data['children'] == 5].count()\n",
    "all_clients = data['children'].count()\n",
    "print(five_children/all_clients*100)"
   ]
  },
  {
   "cell_type": "markdown",
   "id": "2eb9088e",
   "metadata": {
    "deletable": false,
    "id": "2eb9088e"
   },
   "source": [
    "### Влияние количества детей на возврат кредита в срок:\n",
    "**Вывод:** Клиенты без детей не задерживают возврат кредита чаще остальных (92,46%). Несмотря на то, что клиенты с 5 детьми не задерживали платежи никогда (возврат 100%), объективно оценить данный показатель невозможно, т.к. количество клиентов данной категории составляет 0,04 % от общего количества клиентов."
   ]
  },
  {
   "cell_type": "markdown",
   "id": "74c9b3a7",
   "metadata": {
    "deletable": false,
    "editable": false,
    "id": "74c9b3a7"
   },
   "source": [
    "#### 3.2 Есть ли зависимость между семейным положением и возвратом кредита в срок?"
   ]
  },
  {
   "cell_type": "code",
   "execution_count": 26,
   "id": "00c9d711",
   "metadata": {},
   "outputs": [
    {
     "data": {
      "text/html": [
       "<div>\n",
       "<style scoped>\n",
       "    .dataframe tbody tr th:only-of-type {\n",
       "        vertical-align: middle;\n",
       "    }\n",
       "\n",
       "    .dataframe tbody tr th {\n",
       "        vertical-align: top;\n",
       "    }\n",
       "\n",
       "    .dataframe thead th {\n",
       "        text-align: right;\n",
       "    }\n",
       "</style>\n",
       "<table border=\"1\" class=\"dataframe\">\n",
       "  <thead>\n",
       "    <tr style=\"text-align: right;\">\n",
       "      <th></th>\n",
       "      <th>clients_quantity</th>\n",
       "      <th>percent_of_return</th>\n",
       "    </tr>\n",
       "    <tr>\n",
       "      <th>family_status</th>\n",
       "      <th></th>\n",
       "      <th></th>\n",
       "    </tr>\n",
       "  </thead>\n",
       "  <tbody>\n",
       "    <tr>\n",
       "      <th>Не женат / не замужем</th>\n",
       "      <td>2796.0</td>\n",
       "      <td>90.24</td>\n",
       "    </tr>\n",
       "    <tr>\n",
       "      <th>в разводе</th>\n",
       "      <td>1189.0</td>\n",
       "      <td>92.94</td>\n",
       "    </tr>\n",
       "    <tr>\n",
       "      <th>вдовец / вдова</th>\n",
       "      <td>951.0</td>\n",
       "      <td>93.38</td>\n",
       "    </tr>\n",
       "    <tr>\n",
       "      <th>гражданский брак</th>\n",
       "      <td>4134.0</td>\n",
       "      <td>90.69</td>\n",
       "    </tr>\n",
       "    <tr>\n",
       "      <th>женат / замужем</th>\n",
       "      <td>12261.0</td>\n",
       "      <td>92.44</td>\n",
       "    </tr>\n",
       "  </tbody>\n",
       "</table>\n",
       "</div>"
      ],
      "text/plain": [
       "                       clients_quantity  percent_of_return\n",
       "family_status                                             \n",
       "Не женат / не замужем            2796.0              90.24\n",
       "в разводе                        1189.0              92.94\n",
       "вдовец / вдова                    951.0              93.38\n",
       "гражданский брак                 4134.0              90.69\n",
       "женат / замужем                 12261.0              92.44"
      ]
     },
     "execution_count": 26,
     "metadata": {},
     "output_type": "execute_result"
    }
   ],
   "source": [
    "def fam_status_influence (x):\n",
    "    result = {\n",
    "    'clients_quantity': x['family_status'].count(),\n",
    "    'percent_of_return': (1 - x['debt'].mean()) * 100\n",
    "    }\n",
    "    return pd.Series(result).round(2)\n",
    "data.groupby('family_status').apply(fam_status_influence)"
   ]
  },
  {
   "cell_type": "markdown",
   "id": "c389ca63",
   "metadata": {
    "deletable": false,
    "id": "c389ca63"
   },
   "source": [
    "### Влияние семейного положения на возврат кредита в срок\n",
    "**Вывод:** Самые низкие проценты по возвратам в срок у неженатых людей (90,24%) и людей, проживающих в гражданском браке (90,69%). У остальных категорий процент возврата по кредитам составляет 92-93%. Можно сделать вывод, что узаконивание отношений увеличивает вероятность возврата кредита в срок."
   ]
  },
  {
   "cell_type": "markdown",
   "id": "9529de68",
   "metadata": {
    "deletable": false,
    "editable": false,
    "id": "9529de68"
   },
   "source": [
    "#### 3.3 Есть ли зависимость между уровнем дохода и возвратом кредита в срок?"
   ]
  },
  {
   "cell_type": "code",
   "execution_count": 28,
   "id": "aea62c62",
   "metadata": {},
   "outputs": [
    {
     "data": {
      "text/html": [
       "<div>\n",
       "<style scoped>\n",
       "    .dataframe tbody tr th:only-of-type {\n",
       "        vertical-align: middle;\n",
       "    }\n",
       "\n",
       "    .dataframe tbody tr th {\n",
       "        vertical-align: top;\n",
       "    }\n",
       "\n",
       "    .dataframe thead th {\n",
       "        text-align: right;\n",
       "    }\n",
       "</style>\n",
       "<table border=\"1\" class=\"dataframe\">\n",
       "  <thead>\n",
       "    <tr style=\"text-align: right;\">\n",
       "      <th></th>\n",
       "      <th>clients_quantity</th>\n",
       "      <th>percent_of_return</th>\n",
       "    </tr>\n",
       "    <tr>\n",
       "      <th>total_income_category</th>\n",
       "      <th></th>\n",
       "      <th></th>\n",
       "    </tr>\n",
       "  </thead>\n",
       "  <tbody>\n",
       "    <tr>\n",
       "      <th>A</th>\n",
       "      <td>25.0</td>\n",
       "      <td>92.00</td>\n",
       "    </tr>\n",
       "    <tr>\n",
       "      <th>B</th>\n",
       "      <td>5014.0</td>\n",
       "      <td>92.94</td>\n",
       "    </tr>\n",
       "    <tr>\n",
       "      <th>C</th>\n",
       "      <td>15921.0</td>\n",
       "      <td>91.50</td>\n",
       "    </tr>\n",
       "    <tr>\n",
       "      <th>D</th>\n",
       "      <td>349.0</td>\n",
       "      <td>93.98</td>\n",
       "    </tr>\n",
       "    <tr>\n",
       "      <th>E</th>\n",
       "      <td>22.0</td>\n",
       "      <td>90.91</td>\n",
       "    </tr>\n",
       "  </tbody>\n",
       "</table>\n",
       "</div>"
      ],
      "text/plain": [
       "                       clients_quantity  percent_of_return\n",
       "total_income_category                                     \n",
       "A                                  25.0              92.00\n",
       "B                                5014.0              92.94\n",
       "C                               15921.0              91.50\n",
       "D                                 349.0              93.98\n",
       "E                                  22.0              90.91"
      ]
     },
     "execution_count": 28,
     "metadata": {},
     "output_type": "execute_result"
    }
   ],
   "source": [
    "def income_influence (x):\n",
    "    result = {\n",
    "    'clients_quantity': x['total_income_category'].count(),\n",
    "    'percent_of_return': (1 - x['debt'].mean()) * 100\n",
    "    }\n",
    "    return pd.Series(result).round(2)\n",
    "data.groupby('total_income_category').apply(income_influence)"
   ]
  },
  {
   "cell_type": "markdown",
   "id": "6dd14b57",
   "metadata": {
    "deletable": false,
    "id": "6dd14b57"
   },
   "source": [
    "### Влияние уровня дохода на возврат кредита в срок\n",
    "**Вывод:** Наименьший возврат по кредиту в срок у людей с доходом категории D (90,91%). Увеличение дохода не влияет на увеличение процента по возвратам кредита в срок. "
   ]
  },
  {
   "cell_type": "markdown",
   "id": "1dcc9b12",
   "metadata": {
    "deletable": false,
    "editable": false,
    "id": "1dcc9b12"
   },
   "source": [
    "#### 3.4 Как разные цели кредита влияют на его возврат в срок?"
   ]
  },
  {
   "cell_type": "code",
   "execution_count": 30,
   "id": "c385db46",
   "metadata": {
    "scrolled": true
   },
   "outputs": [
    {
     "data": {
      "text/html": [
       "<div>\n",
       "<style scoped>\n",
       "    .dataframe tbody tr th:only-of-type {\n",
       "        vertical-align: middle;\n",
       "    }\n",
       "\n",
       "    .dataframe tbody tr th {\n",
       "        vertical-align: top;\n",
       "    }\n",
       "\n",
       "    .dataframe thead th {\n",
       "        text-align: right;\n",
       "    }\n",
       "</style>\n",
       "<table border=\"1\" class=\"dataframe\">\n",
       "  <thead>\n",
       "    <tr style=\"text-align: right;\">\n",
       "      <th></th>\n",
       "      <th>clients_quantity</th>\n",
       "      <th>percent_of_return</th>\n",
       "    </tr>\n",
       "    <tr>\n",
       "      <th>purpose_category</th>\n",
       "      <th></th>\n",
       "      <th></th>\n",
       "    </tr>\n",
       "  </thead>\n",
       "  <tbody>\n",
       "    <tr>\n",
       "      <th>операции с автомобилем</th>\n",
       "      <td>4279.0</td>\n",
       "      <td>90.65</td>\n",
       "    </tr>\n",
       "    <tr>\n",
       "      <th>операции с недвижимостью</th>\n",
       "      <td>10751.0</td>\n",
       "      <td>92.74</td>\n",
       "    </tr>\n",
       "    <tr>\n",
       "      <th>получение образования</th>\n",
       "      <td>3988.0</td>\n",
       "      <td>90.75</td>\n",
       "    </tr>\n",
       "    <tr>\n",
       "      <th>проведение свадьбы</th>\n",
       "      <td>2313.0</td>\n",
       "      <td>92.09</td>\n",
       "    </tr>\n",
       "  </tbody>\n",
       "</table>\n",
       "</div>"
      ],
      "text/plain": [
       "                          clients_quantity  percent_of_return\n",
       "purpose_category                                             \n",
       "операции с автомобилем              4279.0              90.65\n",
       "операции с недвижимостью           10751.0              92.74\n",
       "получение образования               3988.0              90.75\n",
       "проведение свадьбы                  2313.0              92.09"
      ]
     },
     "execution_count": 30,
     "metadata": {},
     "output_type": "execute_result"
    }
   ],
   "source": [
    "def purpose_influence (x):\n",
    "    result = {\n",
    "    'clients_quantity': x['purpose_category'].count(),\n",
    "    'percent_of_return': (1 - x['debt'].mean()) * 100\n",
    "    }\n",
    "    return pd.Series(result).round(2)\n",
    "data.groupby('purpose_category').apply(purpose_influence)"
   ]
  },
  {
   "cell_type": "markdown",
   "id": "9134fe6f",
   "metadata": {
    "deletable": false,
    "id": "cf05ed63"
   },
   "source": [
    "### Влияние цели получения кредита на его возврат в срок\n",
    "**Вывод:** Наименьший возврат по кредитам в срок составляют кредиты на операции с автомобилями (90,65%) и получение образования (90,75%). Возврат в срок по кредитам на операции с недвижимостью (92,74%) и проведению свадеб (92,09%) находятся на примерно одинаковом уровне. "
   ]
  },
  {
   "cell_type": "markdown",
   "id": "57bc304e",
   "metadata": {
    "deletable": false,
    "editable": false,
    "id": "57bc304e"
   },
   "source": [
    "### Шаг 4: общий вывод."
   ]
  },
  {
   "cell_type": "markdown",
   "id": "1ab75d1c",
   "metadata": {
    "deletable": false,
    "id": "1ab75d1c"
   },
   "source": [
    "Основываясь на полученных данны можно сделать следующие выводы:\n",
    "  1. Клиенты, узаконивающие свои отношения в органах гос. регистрации, являются более ответственными и платят по кредиту в срок в среднем на 2% чаще. \n",
    "  2. Наличие детей в семье играет скорее отрицательный эффект на возвращаемость кредита в срок, так как адекватно оценить влияние 5 детей в семьей невозможно, по причине недостаточной выборки (0,04%). Клиенты без детей на 1,5-2% чаще возвращают кредит в срок. \n",
    "  3. Увеличение дохода клиента не влияет на увеличение возвращаемости. Самый низкий процент возвращаемости у людей с очень низким доходом E (90,91%), самый высокий у клиентов с низким доходом D (93.98). \n",
    "  4. Цель кредита также оказывает влияние на возвращаемость кредита в срок. Клиенты которые берут кредит на операции с автомобилем (90,65%) и обучение (90,75%) реже платят в срок, чем клиенты, которые берут кредит на операции с недвижимостью (92,74%) и проведение свадьбы (92,09%)    "
   ]
  }
 ],
 "metadata": {
  "ExecuteTimeLog": [
   {
    "duration": 515,
    "start_time": "2024-11-26T11:54:22.173Z"
   },
   {
    "duration": 22,
    "start_time": "2024-11-26T11:54:25.013Z"
   },
   {
    "duration": 26,
    "start_time": "2024-11-26T11:54:25.484Z"
   },
   {
    "duration": 11,
    "start_time": "2024-11-26T11:54:26.280Z"
   },
   {
    "duration": 45,
    "start_time": "2024-11-26T11:54:26.654Z"
   },
   {
    "duration": 4,
    "start_time": "2024-11-26T11:54:27.253Z"
   },
   {
    "duration": 9,
    "start_time": "2024-11-26T11:54:27.681Z"
   },
   {
    "duration": 5,
    "start_time": "2024-11-26T11:54:28.312Z"
   },
   {
    "duration": 7,
    "start_time": "2024-11-26T11:54:28.754Z"
   },
   {
    "duration": 6,
    "start_time": "2024-11-26T11:54:29.753Z"
   },
   {
    "duration": 45,
    "start_time": "2024-11-26T11:54:30.440Z"
   },
   {
    "duration": 11,
    "start_time": "2024-11-26T11:54:30.852Z"
   },
   {
    "duration": 4,
    "start_time": "2024-11-26T11:54:31.472Z"
   },
   {
    "duration": 12,
    "start_time": "2024-11-26T11:54:32.093Z"
   },
   {
    "duration": 20,
    "start_time": "2024-11-26T11:54:32.509Z"
   },
   {
    "duration": 17,
    "start_time": "2024-11-26T11:54:32.712Z"
   },
   {
    "duration": 3,
    "start_time": "2024-11-26T11:54:33.274Z"
   },
   {
    "duration": 18,
    "start_time": "2024-11-26T11:54:33.500Z"
   },
   {
    "duration": 5,
    "start_time": "2024-11-26T11:54:34.993Z"
   },
   {
    "duration": 3,
    "start_time": "2024-11-26T11:54:37.169Z"
   },
   {
    "duration": 9,
    "start_time": "2024-11-26T11:54:46.553Z"
   },
   {
    "duration": 20,
    "start_time": "2024-11-26T11:55:12.005Z"
   },
   {
    "duration": 19,
    "start_time": "2024-11-26T11:55:46.006Z"
   },
   {
    "duration": 19,
    "start_time": "2024-11-26T11:56:13.593Z"
   },
   {
    "duration": 5,
    "start_time": "2024-11-26T11:58:45.905Z"
   },
   {
    "duration": 7,
    "start_time": "2024-11-26T11:58:57.023Z"
   },
   {
    "duration": 3,
    "start_time": "2024-11-26T11:59:41.205Z"
   },
   {
    "duration": 100,
    "start_time": "2024-11-26T11:59:54.065Z"
   },
   {
    "duration": 3,
    "start_time": "2024-11-26T12:00:02.345Z"
   },
   {
    "duration": 16,
    "start_time": "2024-11-26T12:00:13.684Z"
   },
   {
    "duration": 7,
    "start_time": "2024-11-26T12:00:40.823Z"
   },
   {
    "duration": 9,
    "start_time": "2024-11-26T12:00:47.504Z"
   },
   {
    "duration": 9,
    "start_time": "2024-11-26T12:01:54.924Z"
   },
   {
    "duration": 8,
    "start_time": "2024-11-26T12:03:32.953Z"
   },
   {
    "duration": 9,
    "start_time": "2024-11-26T12:04:06.804Z"
   },
   {
    "duration": 76,
    "start_time": "2024-11-26T12:10:09.534Z"
   },
   {
    "duration": 71,
    "start_time": "2024-11-26T12:10:17.175Z"
   },
   {
    "duration": 66,
    "start_time": "2024-11-26T12:10:59.423Z"
   },
   {
    "duration": 12,
    "start_time": "2024-11-26T12:11:08.163Z"
   },
   {
    "duration": 4,
    "start_time": "2024-11-26T12:11:39.090Z"
   },
   {
    "duration": 959,
    "start_time": "2024-11-26T12:11:49.379Z"
   },
   {
    "duration": 12,
    "start_time": "2024-11-26T12:14:05.669Z"
   },
   {
    "duration": 9,
    "start_time": "2024-11-26T12:14:32.589Z"
   },
   {
    "duration": 69,
    "start_time": "2024-11-26T12:14:38.190Z"
   },
   {
    "duration": 4,
    "start_time": "2024-11-26T12:14:42.019Z"
   },
   {
    "duration": 9,
    "start_time": "2024-11-26T12:15:09.486Z"
   },
   {
    "duration": 5,
    "start_time": "2024-11-26T12:17:48.461Z"
   },
   {
    "duration": 4,
    "start_time": "2024-11-26T12:18:12.360Z"
   },
   {
    "duration": 5,
    "start_time": "2024-11-26T12:21:33.541Z"
   },
   {
    "duration": 22,
    "start_time": "2024-11-26T12:21:48.060Z"
   },
   {
    "duration": 15,
    "start_time": "2024-11-26T12:24:06.117Z"
   },
   {
    "duration": 15,
    "start_time": "2024-11-26T12:25:42.425Z"
   },
   {
    "duration": 16,
    "start_time": "2024-11-26T12:26:25.395Z"
   },
   {
    "duration": 5,
    "start_time": "2024-11-26T12:27:14.262Z"
   },
   {
    "duration": 5,
    "start_time": "2024-11-26T12:27:24.242Z"
   },
   {
    "duration": 79,
    "start_time": "2024-11-26T12:28:36.535Z"
   },
   {
    "duration": 7,
    "start_time": "2024-11-26T12:28:58.181Z"
   },
   {
    "duration": 7,
    "start_time": "2024-11-26T12:29:32.461Z"
   },
   {
    "duration": 250,
    "start_time": "2024-11-26T12:30:05.461Z"
   },
   {
    "duration": 15,
    "start_time": "2024-11-26T12:30:29.283Z"
   },
   {
    "duration": 17,
    "start_time": "2024-11-26T12:30:49.324Z"
   },
   {
    "duration": 1003,
    "start_time": "2024-11-26T12:32:24.231Z"
   },
   {
    "duration": 972,
    "start_time": "2024-11-26T12:32:39.584Z"
   },
   {
    "duration": 926,
    "start_time": "2024-11-26T12:34:03.026Z"
   },
   {
    "duration": 998,
    "start_time": "2024-11-26T12:34:43.786Z"
   },
   {
    "duration": 19,
    "start_time": "2024-11-26T12:34:54.679Z"
   },
   {
    "duration": 23,
    "start_time": "2024-11-26T12:35:14.479Z"
   },
   {
    "duration": 5,
    "start_time": "2024-11-26T12:51:06.873Z"
   },
   {
    "duration": 4,
    "start_time": "2024-11-26T12:51:15.834Z"
   },
   {
    "duration": 4,
    "start_time": "2024-11-26T12:51:31.227Z"
   },
   {
    "duration": 20,
    "start_time": "2024-11-26T12:51:41.154Z"
   },
   {
    "duration": 16,
    "start_time": "2024-11-26T12:52:15.801Z"
   },
   {
    "duration": 14,
    "start_time": "2024-11-26T12:52:30.434Z"
   },
   {
    "duration": 30,
    "start_time": "2024-11-26T12:53:32.081Z"
   },
   {
    "duration": 26,
    "start_time": "2024-11-26T12:53:39.589Z"
   },
   {
    "duration": 28,
    "start_time": "2024-11-26T12:58:20.052Z"
   },
   {
    "duration": 28,
    "start_time": "2024-11-26T13:00:37.895Z"
   },
   {
    "duration": 35,
    "start_time": "2024-11-26T13:02:42.870Z"
   },
   {
    "duration": 30,
    "start_time": "2024-11-26T13:04:14.135Z"
   },
   {
    "duration": 34,
    "start_time": "2024-11-26T13:04:54.061Z"
   },
   {
    "duration": 34,
    "start_time": "2024-11-26T13:06:09.376Z"
   },
   {
    "duration": 35,
    "start_time": "2024-11-26T13:07:12.674Z"
   },
   {
    "duration": 33,
    "start_time": "2024-11-26T13:07:20.151Z"
   },
   {
    "duration": 40,
    "start_time": "2024-11-26T13:07:37.791Z"
   },
   {
    "duration": 28,
    "start_time": "2024-11-26T13:07:50.823Z"
   },
   {
    "duration": 29,
    "start_time": "2024-11-26T13:08:00.143Z"
   },
   {
    "duration": 33,
    "start_time": "2024-11-26T13:08:17.862Z"
   },
   {
    "duration": 32,
    "start_time": "2024-11-26T13:08:37.815Z"
   },
   {
    "duration": 30,
    "start_time": "2024-11-26T13:09:01.042Z"
   },
   {
    "duration": 30,
    "start_time": "2024-11-26T13:09:17.194Z"
   },
   {
    "duration": 31,
    "start_time": "2024-11-26T13:09:30.395Z"
   },
   {
    "duration": 30,
    "start_time": "2024-11-26T13:09:50.202Z"
   },
   {
    "duration": 49,
    "start_time": "2024-11-26T13:10:10.463Z"
   },
   {
    "duration": 29,
    "start_time": "2024-11-26T13:11:24.742Z"
   },
   {
    "duration": 42,
    "start_time": "2024-11-26T13:11:35.143Z"
   },
   {
    "duration": 48,
    "start_time": "2024-11-26T13:13:05.376Z"
   },
   {
    "duration": 28,
    "start_time": "2024-11-26T13:13:11.123Z"
   },
   {
    "duration": 40,
    "start_time": "2024-11-26T13:13:20.111Z"
   },
   {
    "duration": 29,
    "start_time": "2024-11-26T13:13:26.311Z"
   },
   {
    "duration": 30,
    "start_time": "2024-11-26T13:13:56.630Z"
   },
   {
    "duration": 6,
    "start_time": "2024-11-26T13:14:32.415Z"
   },
   {
    "duration": 9,
    "start_time": "2024-11-26T13:16:46.261Z"
   },
   {
    "duration": 90,
    "start_time": "2024-11-26T13:16:50.510Z"
   },
   {
    "duration": 3,
    "start_time": "2024-11-26T13:16:54.223Z"
   },
   {
    "duration": 7,
    "start_time": "2024-11-26T13:17:32.570Z"
   },
   {
    "duration": 4,
    "start_time": "2024-11-26T13:20:45.557Z"
   },
   {
    "duration": 4,
    "start_time": "2024-11-26T13:20:52.530Z"
   },
   {
    "duration": 3,
    "start_time": "2024-11-26T13:21:04.363Z"
   },
   {
    "duration": 6,
    "start_time": "2024-11-26T13:21:10.930Z"
   },
   {
    "duration": 13,
    "start_time": "2024-11-26T13:21:35.723Z"
   },
   {
    "duration": 9,
    "start_time": "2024-11-26T13:21:47.293Z"
   },
   {
    "duration": 14,
    "start_time": "2024-11-26T13:22:37.048Z"
   },
   {
    "duration": 7,
    "start_time": "2024-11-26T13:23:33.784Z"
   },
   {
    "duration": 10,
    "start_time": "2024-11-26T13:25:49.316Z"
   },
   {
    "duration": 9,
    "start_time": "2024-11-26T13:42:52.083Z"
   },
   {
    "duration": 4,
    "start_time": "2024-11-26T13:45:12.443Z"
   },
   {
    "duration": 4,
    "start_time": "2024-11-26T13:46:28.396Z"
   },
   {
    "duration": 11,
    "start_time": "2024-11-26T13:51:30.821Z"
   },
   {
    "duration": 4,
    "start_time": "2024-11-26T13:53:21.783Z"
   },
   {
    "duration": 5,
    "start_time": "2024-11-26T13:53:49.397Z"
   },
   {
    "duration": 6,
    "start_time": "2024-11-26T13:55:05.750Z"
   },
   {
    "duration": 5,
    "start_time": "2024-11-26T14:46:21.298Z"
   },
   {
    "duration": 17,
    "start_time": "2024-11-26T14:46:29.633Z"
   },
   {
    "duration": 4,
    "start_time": "2024-11-26T14:48:50.156Z"
   },
   {
    "duration": 12,
    "start_time": "2024-11-26T14:48:54.335Z"
   },
   {
    "duration": 11,
    "start_time": "2024-11-26T14:48:59.964Z"
   },
   {
    "duration": 11,
    "start_time": "2024-11-26T14:49:07.795Z"
   },
   {
    "duration": 7,
    "start_time": "2024-11-26T14:49:14.276Z"
   },
   {
    "duration": 8,
    "start_time": "2024-11-26T14:49:35.856Z"
   },
   {
    "duration": 7,
    "start_time": "2024-11-26T14:50:03.386Z"
   },
   {
    "duration": 12,
    "start_time": "2024-11-26T14:52:22.017Z"
   },
   {
    "duration": 10,
    "start_time": "2024-11-26T14:58:37.410Z"
   },
   {
    "duration": 17,
    "start_time": "2024-11-26T15:03:22.050Z"
   },
   {
    "duration": 9,
    "start_time": "2024-11-26T15:11:54.813Z"
   },
   {
    "duration": 9,
    "start_time": "2024-11-26T15:12:02.861Z"
   },
   {
    "duration": 570,
    "start_time": "2024-11-26T20:42:59.630Z"
   },
   {
    "duration": 22,
    "start_time": "2024-11-26T20:43:00.201Z"
   },
   {
    "duration": 26,
    "start_time": "2024-11-26T20:43:00.225Z"
   },
   {
    "duration": 13,
    "start_time": "2024-11-26T20:43:00.253Z"
   },
   {
    "duration": 42,
    "start_time": "2024-11-26T20:43:00.267Z"
   },
   {
    "duration": 4,
    "start_time": "2024-11-26T20:43:00.311Z"
   },
   {
    "duration": 20,
    "start_time": "2024-11-26T20:43:00.316Z"
   },
   {
    "duration": 5,
    "start_time": "2024-11-26T20:43:00.338Z"
   },
   {
    "duration": 25,
    "start_time": "2024-11-26T20:43:00.344Z"
   },
   {
    "duration": 10,
    "start_time": "2024-11-26T20:43:00.372Z"
   },
   {
    "duration": 49,
    "start_time": "2024-11-26T20:43:00.383Z"
   },
   {
    "duration": 13,
    "start_time": "2024-11-26T20:43:00.434Z"
   },
   {
    "duration": 17,
    "start_time": "2024-11-26T20:43:00.449Z"
   },
   {
    "duration": 18,
    "start_time": "2024-11-26T20:43:00.467Z"
   },
   {
    "duration": 46,
    "start_time": "2024-11-26T20:43:00.487Z"
   },
   {
    "duration": 17,
    "start_time": "2024-11-26T20:43:00.535Z"
   },
   {
    "duration": 4,
    "start_time": "2024-11-26T20:43:00.554Z"
   },
   {
    "duration": 29,
    "start_time": "2024-11-26T20:43:00.559Z"
   },
   {
    "duration": 6,
    "start_time": "2024-11-26T20:43:00.590Z"
   },
   {
    "duration": 79,
    "start_time": "2024-11-26T20:43:00.598Z"
   },
   {
    "duration": 25,
    "start_time": "2024-11-26T20:43:00.679Z"
   },
   {
    "duration": 26,
    "start_time": "2024-11-26T20:43:00.706Z"
   },
   {
    "duration": 15,
    "start_time": "2024-11-26T20:43:00.734Z"
   },
   {
    "duration": 15,
    "start_time": "2024-11-26T20:43:00.751Z"
   },
   {
    "duration": 10,
    "start_time": "2024-11-26T20:43:00.767Z"
   },
   {
    "duration": 15,
    "start_time": "2024-11-26T20:43:00.779Z"
   },
   {
    "duration": 510,
    "start_time": "2024-11-28T12:01:40.299Z"
   },
   {
    "duration": 21,
    "start_time": "2024-11-28T12:01:40.811Z"
   },
   {
    "duration": 54,
    "start_time": "2024-11-28T12:01:40.834Z"
   },
   {
    "duration": 16,
    "start_time": "2024-11-28T12:01:40.889Z"
   },
   {
    "duration": 39,
    "start_time": "2024-11-28T12:01:40.906Z"
   },
   {
    "duration": 4,
    "start_time": "2024-11-28T12:01:40.946Z"
   },
   {
    "duration": 71,
    "start_time": "2024-11-28T12:01:40.952Z"
   },
   {
    "duration": 15,
    "start_time": "2024-11-28T12:01:41.024Z"
   },
   {
    "duration": 9,
    "start_time": "2024-11-28T12:01:41.041Z"
   },
   {
    "duration": 4,
    "start_time": "2024-11-28T12:01:41.052Z"
   },
   {
    "duration": 47,
    "start_time": "2024-11-28T12:01:41.057Z"
   },
   {
    "duration": 10,
    "start_time": "2024-11-28T12:01:41.105Z"
   },
   {
    "duration": 24,
    "start_time": "2024-11-28T12:01:41.116Z"
   },
   {
    "duration": 17,
    "start_time": "2024-11-28T12:01:41.142Z"
   },
   {
    "duration": 83,
    "start_time": "2024-11-28T12:01:41.161Z"
   },
   {
    "duration": 17,
    "start_time": "2024-11-28T12:01:41.245Z"
   },
   {
    "duration": 4,
    "start_time": "2024-11-28T12:01:41.263Z"
   },
   {
    "duration": 17,
    "start_time": "2024-11-28T12:01:41.268Z"
   },
   {
    "duration": 16,
    "start_time": "2024-11-28T12:01:41.287Z"
   },
   {
    "duration": 4,
    "start_time": "2024-11-28T12:01:41.305Z"
   },
   {
    "duration": 16,
    "start_time": "2024-11-28T12:01:41.310Z"
   },
   {
    "duration": 7,
    "start_time": "2024-11-28T12:01:41.328Z"
   },
   {
    "duration": 31,
    "start_time": "2024-11-28T12:01:41.336Z"
   },
   {
    "duration": 8,
    "start_time": "2024-11-28T12:01:41.369Z"
   },
   {
    "duration": 10,
    "start_time": "2024-11-28T12:01:41.378Z"
   },
   {
    "duration": 38,
    "start_time": "2024-11-28T12:01:41.390Z"
   },
   {
    "duration": 9,
    "start_time": "2024-11-28T12:01:41.430Z"
   },
   {
    "duration": 72,
    "start_time": "2024-11-28T12:01:41.441Z"
   },
   {
    "duration": 11,
    "start_time": "2024-11-28T12:01:41.514Z"
   },
   {
    "duration": 18,
    "start_time": "2024-11-28T12:01:41.526Z"
   }
  ],
  "colab": {
   "provenance": []
  },
  "kernelspec": {
   "display_name": "Python 3",
   "language": "python",
   "name": "python3"
  },
  "language_info": {
   "codemirror_mode": {
    "name": "ipython",
    "version": 3
   },
   "file_extension": ".py",
   "mimetype": "text/x-python",
   "name": "python",
   "nbconvert_exporter": "python",
   "pygments_lexer": "ipython3",
   "version": "3.9.5"
  },
  "toc": {
   "base_numbering": 1,
   "nav_menu": {},
   "number_sections": true,
   "sideBar": true,
   "skip_h1_title": true,
   "title_cell": "Table of Contents",
   "title_sidebar": "Contents",
   "toc_cell": false,
   "toc_position": {
    "height": "calc(100% - 180px)",
    "left": "10px",
    "top": "150px",
    "width": "292.882px"
   },
   "toc_section_display": true,
   "toc_window_display": true
  }
 },
 "nbformat": 4,
 "nbformat_minor": 5
}
